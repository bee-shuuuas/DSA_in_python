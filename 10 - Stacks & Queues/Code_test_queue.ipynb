{
 "cells": [
  {
   "cell_type": "markdown",
   "id": "0e1a2e79",
   "metadata": {},
   "source": [
    "# 006 Queue Constructor.mp4"
   ]
  },
  {
   "cell_type": "code",
   "execution_count": 4,
   "id": "8ed4ef88",
   "metadata": {},
   "outputs": [
    {
     "name": "stdout",
     "output_type": "stream",
     "text": [
      "10\n"
     ]
    }
   ],
   "source": [
    "class Node: \n",
    "    def __init__(self, value):\n",
    "        self.value = value \n",
    "        self.next = None\n",
    "\n",
    "class Queue:\n",
    "    def __init__(self,value): \n",
    "        new_node = Node(value)\n",
    "        self.first = new_node\n",
    "        self.last = new_node\n",
    "        self.length = 1\n",
    "\n",
    "    def print_queue(self):\n",
    "        temp = self.first\n",
    "        while temp is not None: \n",
    "            print(temp.value)\n",
    "            temp = temp.next\n",
    "\n",
    "my_queue = Queue(10)\n",
    "    \n",
    "my_queue.print_queue()"
   ]
  },
  {
   "cell_type": "markdown",
   "id": "cad310e9",
   "metadata": {},
   "source": [
    "# 007 Queue Enqueue.mp4"
   ]
  },
  {
   "cell_type": "code",
   "execution_count": 6,
   "id": "15d3b712",
   "metadata": {},
   "outputs": [
    {
     "name": "stdout",
     "output_type": "stream",
     "text": [
      "10\n",
      "20\n",
      "----------------\n",
      "10\n",
      "20\n",
      "30\n"
     ]
    }
   ],
   "source": [
    "class Node:\n",
    "    def __init__(self, value):\n",
    "        self.value = value \n",
    "        self.next = None\n",
    "\n",
    "class Queue:\n",
    "    def __init__(self,value):\n",
    "        new_node = Node(value)\n",
    "        self.first = new_node\n",
    "        self.last = new_node\n",
    "        self.length = 1 \n",
    "\n",
    "    def print_queue(self):\n",
    "        temp = self.first\n",
    "        while temp!= None:\n",
    "            print(temp.value)\n",
    "            temp = temp.next\n",
    "    \n",
    "    def enqueue(self, value): \n",
    "        new_node = Node(value)\n",
    "        \n",
    "        if self.length == 0: \n",
    "            self.first  = new_node\n",
    "            self.last = new_node\n",
    "        else: \n",
    "            self.last.next  = new_node\n",
    "            self.last       = new_node\n",
    "        self.length +=1\n",
    "        return True\n",
    "\n",
    "my_queue = Queue(10)\n",
    "my_queue.enqueue(20)\n",
    "\n",
    "my_queue.print_queue()\n",
    "\n",
    "print(f'----------------')\n",
    "\n",
    "my_queue.enqueue(30)\n",
    "my_queue.print_queue()"
   ]
  },
  {
   "cell_type": "markdown",
   "id": "cf06f2d8",
   "metadata": {},
   "source": [
    "# 008 Queue Dequeue.mp4"
   ]
  },
  {
   "cell_type": "code",
   "execution_count": 11,
   "id": "f0e03ae6",
   "metadata": {},
   "outputs": [
    {
     "name": "stdout",
     "output_type": "stream",
     "text": [
      "10\n",
      "20\n",
      "------Queue from last----------\n",
      "10\n",
      "20\n",
      "30\n",
      "--------Dequeue from front--------\n",
      "20\n",
      "30\n"
     ]
    }
   ],
   "source": [
    "class Node: \n",
    "    def __init__(self, value):\n",
    "        self.value= value\n",
    "        self.next = None\n",
    "    \n",
    "class Queue: \n",
    "    def __init__(self, value):\n",
    "        new_node = Node(value) \n",
    "        self.first = new_node\n",
    "        self.last = new_node\n",
    "        self.length = 1 \n",
    "    \n",
    "    def print_queue(self):\n",
    "        temp = self.first\n",
    "        while temp != None: \n",
    "            print(temp.value)\n",
    "            temp = temp.next\n",
    "        \n",
    "    def enqueue(self,value): \n",
    "        new_node = Node(value)\n",
    "        if self.first is None: \n",
    "            self.first = new_node\n",
    "            self.last = new_node\n",
    "        else: \n",
    "            self.last.next = new_node\n",
    "            self.last = new_node\n",
    "        self.length +=1 \n",
    "        return True\n",
    "\n",
    "    def dequeue(self): \n",
    "        if self.first is None:\n",
    "            return None \n",
    "        else: \n",
    "            temp = self.first \n",
    "            self.first = self.first.next             \n",
    "            temp.next = None\n",
    "        return temp\n",
    "\n",
    "\n",
    "my_queue = Queue(10)\n",
    "my_queue.enqueue(20)\n",
    "\n",
    "my_queue.print_queue()\n",
    "\n",
    "print(f'------Queue from last----------')\n",
    "\n",
    "my_queue.enqueue(30)\n",
    "my_queue.print_queue()\n",
    "\n",
    "\n",
    "print(f'--------Dequeue from front--------')\n",
    "\n",
    "my_queue.dequeue()\n",
    "my_queue.print_queue()\n",
    "\n"
   ]
  },
  {
   "cell_type": "code",
   "execution_count": null,
   "id": "0f9931e3",
   "metadata": {},
   "outputs": [],
   "source": []
  }
 ],
 "metadata": {
  "kernelspec": {
   "display_name": "Python 3",
   "language": "python",
   "name": "python3"
  },
  "language_info": {
   "codemirror_mode": {
    "name": "ipython",
    "version": 3
   },
   "file_extension": ".py",
   "mimetype": "text/x-python",
   "name": "python",
   "nbconvert_exporter": "python",
   "pygments_lexer": "ipython3",
   "version": "3.10.12"
  }
 },
 "nbformat": 4,
 "nbformat_minor": 5
}
