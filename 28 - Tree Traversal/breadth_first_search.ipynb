{
 "cells": [
  {
   "cell_type": "markdown",
   "id": "62b88040",
   "metadata": {},
   "source": [
    "breadth first search, depends upon ; Binary Search Tree. \n",
    "\n",
    "Or, this is usually a search method on binart tree \n",
    "\n",
    "\n",
    "Breadth first == -> Hoizontal first \n",
    "\n",
    "\n",
    "Row wise search method"
   ]
  },
  {
   "cell_type": "markdown",
   "id": "0e2d7b55",
   "metadata": {},
   "source": [
    "Breadth First Search is a (method) of binary search this. This is gold, you have to understand"
   ]
  },
  {
   "cell_type": "code",
   "execution_count": 22,
   "id": "a8d5028f",
   "metadata": {},
   "outputs": [],
   "source": [
    "class Node: \n",
    "    def __init__(self, value):\n",
    "        self.value = value \n",
    "        self.left = None \n",
    "        self.right = None\n",
    "    \n",
    "class BinaryTree: \n",
    "    def __init__(self):\n",
    "        self.root = None \n",
    "\n",
    "    def insert(self, value): \n",
    "        new_node = Node(value)\n",
    "\n",
    "        if self.root == None:\n",
    "            self.root = new_node\n",
    "        \n",
    "        temp = self.root\n",
    "        while True: \n",
    "            if temp.value == new_node.value:\n",
    "                return False\n",
    "            if new_node.value < temp.value:\n",
    "                if temp.left == None: \n",
    "                    temp.left = new_node\n",
    "                    return True\n",
    "                temp =temp.left\n",
    "            else: \n",
    "                if temp.right == None: \n",
    "                    temp.right = new_node\n",
    "                    return True\n",
    "                temp = temp.right \n",
    "\n",
    "    def BFS(self): \n",
    "        current_node = self.root \n",
    "        queue = []\n",
    "        results = []\n",
    "        queue.append(current_node)\n",
    "\n",
    "# It is important to put your value; append the queue; before you start to run your while loop\n",
    "# If you never append, while loop will never run \n",
    "\n",
    "        while len(queue)>0: \n",
    "            current_node = queue.pop(0)\n",
    "            # result.append(current_node) # Remember why i highlight this \n",
    "\n",
    "            results.append(current_node.value)\n",
    "\n",
    "            if current_node.left != None: \n",
    "                queue.append(current_node.left)\n",
    "            if current_node.right != None: \n",
    "                queue.append(current_node.right)\n",
    "        return results\n",
    "\n",
    "            \n"
   ]
  },
  {
   "cell_type": "code",
   "execution_count": 23,
   "id": "3e9cb5f8",
   "metadata": {},
   "outputs": [
    {
     "name": "stdout",
     "output_type": "stream",
     "text": [
      "30\n",
      "True\n",
      "True\n",
      "True\n",
      "20\n",
      "40\n",
      "None\n",
      "<__main__.Node object at 0x7fe5d40ab220>\n",
      "60\n"
     ]
    },
    {
     "data": {
      "text/plain": [
       "[30, 20, 40, 60]"
      ]
     },
     "execution_count": 23,
     "metadata": {},
     "output_type": "execute_result"
    }
   ],
   "source": [
    "\n",
    "myTree = BinaryTree()\n",
    "myTree.insert(30)\n",
    "\n",
    "print(myTree.root.value)\n",
    "\n",
    "print(myTree.insert(40))\n",
    "print(myTree.insert(20))\n",
    "\n",
    "print(myTree.insert(60))\n",
    "\n",
    "print(myTree.root.left.value)\n",
    "print(myTree.root.right.value)\n",
    "\n",
    "print(myTree.root.right.left)\n",
    "print(myTree.root.right.right)\n",
    "\n",
    "print(myTree.root.right.right.value)            \n",
    "\n",
    "\n",
    "\n",
    "myTree.BFS()"
   ]
  },
  {
   "cell_type": "code",
   "execution_count": 29,
   "id": "685cca15",
   "metadata": {},
   "outputs": [
    {
     "data": {
      "text/plain": [
       "[50, 5, 60, 2, 15, 70]"
      ]
     },
     "execution_count": 29,
     "metadata": {},
     "output_type": "execute_result"
    }
   ],
   "source": [
    "class Node: \n",
    "    def __init__(self, value):\n",
    "        self.value = value\n",
    "        self.left = None\n",
    "        self.right = None \n",
    "\n",
    "class BinaryTree: \n",
    "    def __init__(self):\n",
    "        self.root = None \n",
    "    \n",
    "    def insert(self,value): \n",
    "        new_node = Node(value)\n",
    "        if self.root == None: \n",
    "            self.root = new_node\n",
    "            return 50\n",
    "        \n",
    "        temp = self.root\n",
    "        while True: \n",
    "            if new_node.value == temp.value: \n",
    "                return False\n",
    "            if new_node.value < temp.value:\n",
    "                if temp.left == None: \n",
    "                    temp.left = new_node\n",
    "                    return True\n",
    "                temp = temp.left\n",
    "            else: \n",
    "                if temp.right == None: \n",
    "                    temp.right = new_node\n",
    "                    return True\n",
    "                temp = temp.right\n",
    "        \n",
    "    def BFS(self): \n",
    "        queue = []\n",
    "        results = []\n",
    "        current_node = self.root \n",
    "        queue.append(current_node)\n",
    "        while len(queue) > 0 : \n",
    "            current_node = queue.pop(0)\n",
    "            results.append(current_node.value) \n",
    "            if current_node.left is not None:\n",
    "                queue.append(current_node.left)\n",
    "            if current_node.right is not None: \n",
    "                queue.append(current_node.right)\n",
    "        return results\n",
    "\n",
    "myTree = BinaryTree()\n",
    "myTree.insert(50)\n",
    "myTree.insert(60)\n",
    "myTree.insert(70)\n",
    "myTree.insert(5)\n",
    "myTree.insert(15)\n",
    "myTree.insert(2)\n",
    "\n",
    "myTree.BFS()"
   ]
  },
  {
   "cell_type": "markdown",
   "id": "d8f54728",
   "metadata": {},
   "source": [
    "# DFS \n",
    "\n",
    "             A\n",
    "            / \\\n",
    "           B   C\n",
    "          / \\   \\\n",
    "         D   E   F\n",
    "\n",
    "\n",
    "\n",
    "|S.N| Traversal Type | Visit Order            | Result       |\n",
    "|-|----------------|------------------------|--------------|\n",
    "|1| Preorder       | Node → Left → Right    | A B D E C F  |\n",
    "|2|Postorder      | Left → Right → Node    | D E B F C A  |\n",
    "|3|  Inorder        | Left → Node → Right    | D B E A C F  |\n"
   ]
  },
  {
   "cell_type": "markdown",
   "id": "75978b73",
   "metadata": {},
   "source": [
    "# DFS\n",
    "\n",
    "## 1. Pre-order "
   ]
  },
  {
   "cell_type": "code",
   "execution_count": 38,
   "id": "fa9a373a",
   "metadata": {},
   "outputs": [
    {
     "name": "stdout",
     "output_type": "stream",
     "text": [
      "50\n",
      "--------\n"
     ]
    },
    {
     "data": {
      "text/plain": [
       "[50, 5, 2, 15, 60, 70]"
      ]
     },
     "execution_count": 38,
     "metadata": {},
     "output_type": "execute_result"
    }
   ],
   "source": [
    "class Node: \n",
    "    def __init__(self, value ):\n",
    "        self.value = value\n",
    "        self.left = None\n",
    "        self.right = None \n",
    "    \n",
    "class BinaryTree: \n",
    "    def __init__(self):\n",
    "        self.root = None\n",
    "    \n",
    "    def insert(self, value): \n",
    "        new_node = Node(value)\n",
    "        if self.root == None: \n",
    "            self.root = new_node\n",
    "            return True\n",
    "        \n",
    "        temp = self.root\n",
    "\n",
    "        while (True): \n",
    "            if temp.value == new_node.value: \n",
    "                return False \n",
    "            \n",
    "            if new_node.value < temp.value: \n",
    "                if temp.left == None: \n",
    "                    temp.left = new_node\n",
    "                    return True\n",
    "                temp = temp.left\n",
    "            else: \n",
    "                if temp.right == None: \n",
    "                    temp.right = new_node\n",
    "                    return True\n",
    "                temp = temp.right\n",
    "        \n",
    "    def dfs_pre_order(self): \n",
    "        results = []\n",
    "\n",
    "        # recursive function\n",
    "        def traverse(current_node): \n",
    "            # results.append(current_node)\n",
    "            results.append(current_node.value)\n",
    "            if current_node.left != None: \n",
    "                traverse(current_node.left)\n",
    "            if current_node.right != None: \n",
    "                traverse(current_node.right)\n",
    "        \n",
    "        # yaha katai function cull ni bhako xaina \n",
    "        traverse(self.root)\n",
    "\n",
    "        return results\n",
    "            \n",
    "\n",
    "myTree = BinaryTree()\n",
    "myTree.insert(50)\n",
    "myTree.insert(60)\n",
    "myTree.insert(70)\n",
    "myTree.insert(5)\n",
    "myTree.insert(15)\n",
    "myTree.insert(2)\n",
    "\n",
    "print(myTree.root.value)\n",
    "print(f'--------')\n",
    "\n",
    "myTree.dfs_pre_order()"
   ]
  },
  {
   "cell_type": "markdown",
   "id": "7dab1f78",
   "metadata": {},
   "source": [
    "# DFS\n",
    "\n",
    "## 2. Post-order "
   ]
  },
  {
   "cell_type": "code",
   "execution_count": 40,
   "id": "5b18924c",
   "metadata": {},
   "outputs": [
    {
     "name": "stdout",
     "output_type": "stream",
     "text": [
      "47\n",
      "--------\n"
     ]
    },
    {
     "data": {
      "text/plain": [
       "[18, 27, 21, 52, 82, 76, 47]"
      ]
     },
     "execution_count": 40,
     "metadata": {},
     "output_type": "execute_result"
    }
   ],
   "source": [
    "class Node: \n",
    "    def __init__(self, value):\n",
    "        self.value = value \n",
    "        self.left = None \n",
    "        self.right = None\n",
    "\n",
    "class BinaryTree(): \n",
    "    def __init__(self):\n",
    "        self.root = None \n",
    "    \n",
    "    def insert(self, value): \n",
    "        new_node = Node(value)\n",
    "        if self.root == None: \n",
    "            self.root = new_node\n",
    "        \n",
    "        temp = self.root\n",
    "\n",
    "        while (True): \n",
    "            if temp.value == new_node.value: \n",
    "                return False \n",
    "\n",
    "            if new_node.value < temp.value: \n",
    "                if temp.left == None: \n",
    "                    temp.left = new_node\n",
    "                    return True\n",
    "                temp = temp.left\n",
    "            else: \n",
    "                if temp.right == None: \n",
    "                    temp.right = new_node\n",
    "                    return True\n",
    "                temp = temp.right\n",
    "        \n",
    "    def DFS_post_order(self): \n",
    "        results = []\n",
    "\n",
    "        current_node = self.root\n",
    "        def traverse(current_node):\n",
    "            if current_node.left != None: \n",
    "                traverse(current_node.left) \n",
    "            if current_node.right != None: \n",
    "                traverse(current_node.right) \n",
    "            # results.append(current_node) # mistake\n",
    "            results.append(current_node.value)\n",
    "        \n",
    "        traverse(self.root)\n",
    "\n",
    "        return results\n",
    "\n",
    "myTree = BinaryTree()\n",
    "myTree.insert(47)\n",
    "myTree.insert(21)\n",
    "myTree.insert(76)\n",
    "myTree.insert(18)\n",
    "myTree.insert(27)\n",
    "myTree.insert(52)\n",
    "myTree.insert(82)\n",
    "\n",
    "print(myTree.root.value)\n",
    "print(f'--------')\n",
    "\n",
    "myTree.DFS_post_order()"
   ]
  },
  {
   "cell_type": "markdown",
   "id": "bd37c237",
   "metadata": {},
   "source": [
    "# DFS\n",
    "\n",
    "## 3. In-order "
   ]
  },
  {
   "cell_type": "code",
   "execution_count": 44,
   "id": "5cc45601",
   "metadata": {},
   "outputs": [
    {
     "name": "stdout",
     "output_type": "stream",
     "text": [
      "47\n",
      "--------\n"
     ]
    },
    {
     "data": {
      "text/plain": [
       "[18, 21, 27, 47, 52, 76, 82]"
      ]
     },
     "execution_count": 44,
     "metadata": {},
     "output_type": "execute_result"
    }
   ],
   "source": [
    "class Node: \n",
    "    def __init__(self, value): \n",
    "        self.value = value\n",
    "        self.left = None\n",
    "        self.right = None \n",
    "    \n",
    "class BinaryTree: \n",
    "    def __init__(self):\n",
    "        self.root = None \n",
    "    \n",
    "    def insert(self,value): \n",
    "        new_node = Node(value)\n",
    "        \n",
    "        if self.root == None: \n",
    "            self.root = new_node\n",
    "            return True\n",
    "         \n",
    "        temp = self.root\n",
    "\n",
    "        while (True): \n",
    "            if temp.value == new_node.value: \n",
    "                return False\n",
    "            \n",
    "            if new_node.value < temp.value:\n",
    "                if temp.left == None: \n",
    "                    temp.left = new_node\n",
    "                    return None \n",
    "                temp = temp.left\n",
    "            else: \n",
    "                if temp.right == None: \n",
    "                    temp.right = new_node\n",
    "                    return True\n",
    "                temp = temp.right\n",
    "        \n",
    "    def DFS_in_order(self): \n",
    "        \n",
    "        results = []\n",
    "\n",
    "        current_node = self.root\n",
    "\n",
    "        def traverse(current_node):\n",
    "            if current_node.left != None: \n",
    "                traverse(current_node.left)\n",
    "            # results.append(current_node) \n",
    "            results.append(current_node.value)\n",
    "            if current_node.right != None: \n",
    "                traverse(current_node.right)\n",
    "\n",
    "        traverse(self.root)\n",
    "\n",
    "        return results\n",
    "\n",
    "myTree = BinaryTree()\n",
    "myTree.insert(47)\n",
    "myTree.insert(21)\n",
    "myTree.insert(76)\n",
    "myTree.insert(18)\n",
    "myTree.insert(27)\n",
    "myTree.insert(52)\n",
    "myTree.insert(82)\n",
    "\n",
    "print(myTree.root.value)\n",
    "print(f'--------')\n",
    "\n",
    "myTree.DFS_in_order()"
   ]
  }
 ],
 "metadata": {
  "kernelspec": {
   "display_name": "Python 3",
   "language": "python",
   "name": "python3"
  },
  "language_info": {
   "codemirror_mode": {
    "name": "ipython",
    "version": 3
   },
   "file_extension": ".py",
   "mimetype": "text/x-python",
   "name": "python",
   "nbconvert_exporter": "python",
   "pygments_lexer": "ipython3",
   "version": "3.10.12"
  }
 },
 "nbformat": 4,
 "nbformat_minor": 5
}
