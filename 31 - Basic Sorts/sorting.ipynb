{
 "cells": [
  {
   "cell_type": "markdown",
   "id": "7a0c019c",
   "metadata": {},
   "source": [
    "# Bubble Sorting\n",
    "\n",
    "## Why Is It Called \"Bubble Sort\"?\n",
    "\n",
    "The name **\"bubble sort\"** comes from the way the **largest elements \"bubble up\" to the top (end) of the list** during each pass through the array.\n",
    "\n",
    "### Here's the logic:\n",
    "\n",
    "- Imagine air bubbles in water — they naturally rise to the surface.\n",
    "- Similarly, in bubble sort:\n",
    "  - The largest unsorted value is compared and swapped forward until it reaches its correct position at the end of the array.\n",
    "  - On the next pass, the second-largest value \"bubbles up,\" and so on.\n",
    "- Each pass ensures the largest remaining unsorted element is moved to the rightmost unsorted position, like bubbles rising to the top.\n",
    "\n",
    "This repeated movement of the largest unsorted element toward the end on each pass gives the algorithm its name.\n"
   ]
  },
  {
   "cell_type": "markdown",
   "id": "63d1b7cd",
   "metadata": {},
   "source": [
    "## ⏱️ Time Complexity\n",
    "\n",
    "| Case           | Time Complexity |\n",
    "|----------------|-----------------|\n",
    "| Best (Sorted)  | O(n)            |\n",
    "| Average        | O(n²)           |\n",
    "| Worst          | O(n²)           |\n",
    "\n",
    "- **Space Complexity**: O(1) (in-place)\n",
    "- **Stable**: ✅ Yes\n"
   ]
  },
  {
   "cell_type": "markdown",
   "id": "87e8640d",
   "metadata": {},
   "source": [
    "**Bubble Sort** is a simple comparison-based sorting algorithm. It works by repeatedly swapping adjacent elements if they are in the wrong order. This process is repeated until the list is sorted.\n",
    "\n",
    "---\n",
    "\n",
    "## 🔁 How It Works (Step-by-Step):\n",
    "\n",
    "1. Start at the beginning of the array.\n",
    "2. Compare the first two elements.\n",
    "3. If the first is greater than the second, swap them.\n",
    "4. Move to the next pair and repeat.\n",
    "5. After each pass, the largest element \"bubbles up\" to the end.\n",
    "6. Repeat for the rest of the array, ignoring the last sorted elements each time.\n",
    "\n",
    "---"
   ]
  },
  {
   "cell_type": "markdown",
   "id": "72010df7",
   "metadata": {},
   "source": [
    "## 📞 Calling the `bubble_sort` Function\n",
    "\n",
    "We will call the `bubble_sort` function and pass it a list that we want to sort.\n",
    "\n",
    "```python\n",
    "# Example list\n",
    "numbers = [5, 2, 9, 1, 5, 6]\n",
    "\n",
    "# Calling the bubble_sort function with the list\n",
    "sorted_numbers = bubble_sort(numbers)\n",
    "\n",
    "# Output the sorted list\n",
    "print(sorted_numbers)  # Output: [1, 2, 5, 5, 6, 9]\n"
   ]
  },
  {
   "cell_type": "markdown",
   "id": "51049af1",
   "metadata": {},
   "source": [
    "*Example with a List of 5 Elements*\n",
    "\n",
    "Outer loop runs 5 times (i = 0 to 4)\n",
    "\n",
    "Inner loop runs:\n",
    "\n",
    "4 times when i = 0 (indexes 0 to 3)\n",
    "\n",
    "3 times when i = 1 (indexes 0 to 2)\n",
    "\n",
    "2 times when i = 2 (indexes 0 to 1)\n",
    "\n",
    "1 time when i = 3 (index 0)\n",
    "\n",
    "0 times when i = 4 (no comparison needed)\n",
    "\n",
    "\n",
    "\n",
    "### 🔢 Bubble Sort Loop Breakdown (n = 5)\n",
    "\n",
    "| Outer Loop Pass (i) | Inner Loop Range (`j in range(0, n - i - 1)`) | Number of Comparisons | Explanation                          |\n",
    "|---------------------|-----------------------------------------------|------------------------|--------------------------------------|\n",
    "| i = 0               | j = 0 to 3                                     | 4 comparisons          | Compare first 4 pairs                |\n",
    "| i = 1               | j = 0 to 2                                     | 3 comparisons          | Last element already sorted          |\n",
    "| i = 2               | j = 0 to 1                                     | 2 comparisons          | Two largest elements in place        |\n",
    "| i = 3               | j = 0                                          | 1 comparison           | Three largest elements in place      |\n",
    "| i = 4               | — (loop ends)                                  | 0 comparisons          | All elements are sorted              |\n",
    "\n"
   ]
  },
  {
   "cell_type": "code",
   "execution_count": 2,
   "id": "460ed053",
   "metadata": {},
   "outputs": [
    {
     "data": {
      "text/plain": [
       "[1, 2, 3, 4, 6]"
      ]
     },
     "execution_count": 2,
     "metadata": {},
     "output_type": "execute_result"
    }
   ],
   "source": [
    "# We will be calling a function named bubble_sort and we will pass it a list \n",
    "\n",
    "\n",
    "def bubble_sort(my_list):\n",
    "    length_of_list = len(my_list)\n",
    "    length = length_of_list\n",
    "\n",
    "    for i in range( length-1, 0, -1 ): \n",
    "        for j in range(i):\n",
    "            if my_list[j]>my_list[j+1]: \n",
    "                temp = my_list[j+1]\n",
    "                my_list[j+1] = my_list[j]\n",
    "                my_list[j] = temp \n",
    "    return my_list\n",
    "\n",
    "bubble_sort([1,3,6,4,2])"
   ]
  },
  {
   "cell_type": "markdown",
   "id": "738cd609",
   "metadata": {},
   "source": [
    "length = 5 \n",
    "length - 1 = 4 \n",
    "\n",
    "for i in range( starting from - 4 ,,,, upto zero ;;; with one step decreament)\n",
    "\n",
    "| Outer Loop Pass (i) | range(i)     | Index Pairs Compared             | Number of Comparisons |\n",
    "|---------------------|--------------|----------------------------------|-----------------------|\n",
    "| i = 4               | (0, 1, 2, 3) | (0,1), (1,2), (2,3), (3,4)      | 4 comparisons         |\n",
    "| i = 3               | (0, 1, 2)    | (0,1), (1,2), (2,3)             | 3 comparisons         |\n",
    "| i = 2               | (0, 1)       | (0,1), (1,2)                    | 2 comparisons         |\n",
    "| i = 1               | (0)           | (0,1)                           | 1 comparison          |\n",
    "\n",
    "==============\n",
    "\n",
    "\n",
    "| Outer Loop Pass (i) | Inner Loop Range (j in range(i)) | Index Pairs Compared             | Number of Comparisons |\n",
    "|---------------------|----------------------------------|----------------------------------|-----------------------|\n",
    "| i = 4               | j = 0 to 3                       | (0,1), (1,2), (2,3), (3,4)      | 4 comparisons         |\n",
    "| i = 3               | j = 0 to 2                       | (0,1), (1,2), (2,3)             | 3 comparisons         |\n",
    "| i = 2               | j = 0 to 1                       | (0,1), (1,2)                    | 2 comparisons         |\n",
    "| i = 1               | j = 0                            | (0,1)                           | 1 comparison          |\n"
   ]
  },
  {
   "cell_type": "markdown",
   "id": "99d18c53",
   "metadata": {},
   "source": [
    "# Selection Sort \n",
    "\n",
    "\"Selection Sort\" refers to the act of selecting the smallest element in each pass and placing it in its correct position in the sorted part of the list.\n",
    "\n",
    "\n",
    "I mean, selection in each Pass ; \n",
    "\n",
    "Replace, swap with the \"unsorted part\" \n",
    "\n",
    "Repeat the process (of selection in unsorted part)\n",
    "\n"
   ]
  },
  {
   "cell_type": "markdown",
   "id": "ba2e97b3",
   "metadata": {},
   "source": [
    "### **Selection Sort**: Logic Behind the Name\n",
    "\n",
    "The name **Selection Sort** comes from the **selection** of the smallest (or largest) element in each pass of the algorithm, which happens in the **unsorted part** of the list.\n",
    "\n",
    "#### The Process:\n",
    "1. **In the first pass**: The algorithm selects the smallest element from the entire list and swaps it with the first element. Now, that element is in the sorted portion of the list, and the remaining unsorted portion has one less element.\n",
    "   \n",
    "2. **In each subsequent pass**: The algorithm selects the smallest element from the **remaining unsorted portion** of the list and places it at the start of the unsorted part by swapping.\n",
    "\n",
    "3. This **selection** process continues, shrinking the unsorted part and growing the sorted part until the entire list is sorted.\n",
    "\n",
    "### **Example (Revised with Focus on \"Unsorted Part\"):**\n",
    "\n",
    "For a list `[64, 25, 12, 22, 11]`:\n",
    "\n",
    "- **1st Pass (Unsorted part: [64, 25, 12, 22, 11])**: Select the smallest element (`11`), and swap it with the first element (`64`). The list now looks like: `[11, 25, 12, 22, 64]`.\n",
    "  \n",
    "- **2nd Pass (Unsorted part: [25, 12, 22, 64])**: Select the smallest element (`12`), and swap it with the first element of the unsorted part (`25`). The list now looks like: `[11, 12, 25, 22, 64]`.\n",
    "  \n",
    "- **3rd Pass (Unsorted part: [25, 22, 64])**: Select the smallest element (`22`), and swap it with the first element of the unsorted part (`25`). The list now looks like: `[11, 12, 22, 25, 64]`.\n",
    "  \n",
    "- **4th Pass (Unsorted part: [25, 64])**: No need to swap because `25` is already the smallest element. The list is now sorted: `[11, 12, 22, 25, 64]`.\n",
    "\n",
    "### **Key Point:**\n",
    "- **Selection** in each pass refers to the algorithm picking the smallest element from the **unsorted part** and placing it into the **sorted part** by swapping. This continues until the entire list is sorted.\n",
    "\n",
    "### **Summary:**\n",
    "\n",
    "- The name **Selection Sort** reflects the idea that, in each pass, we **select** the smallest element from the **unsorted portion** and place it in the correct sorted position.\n",
    "- The unsorted part keeps shrinking with each pass as we grow the sorted part by one element.\n"
   ]
  },
  {
   "cell_type": "code",
   "execution_count": null,
   "id": "8da233a8",
   "metadata": {},
   "outputs": [],
   "source": [
    "def selection_sort(my_list): \n",
    "    length = len(my_list)\n",
    "    for i in range( length - 1, 0, -1): \n",
    "        for j in range(i): \n",
    "            if my_list[j]< my_list[j+1]: \n",
    "                min = my_list[j]\n",
    "            else:\n",
    "                min = my_list[j+1]\n",
    "\n",
    "# Fuck, how to replace  ? this is the error ; we need to store the index, not the variable \n",
    "\n"
   ]
  },
  {
   "cell_type": "code",
   "execution_count": 6,
   "id": "524164e2",
   "metadata": {},
   "outputs": [
    {
     "data": {
      "text/plain": [
       "[11, 12, 22, 25, 64]"
      ]
     },
     "execution_count": 6,
     "metadata": {},
     "output_type": "execute_result"
    }
   ],
   "source": [
    "def selection_sort(my_list): \n",
    "    length = len(my_list)\n",
    "    for i in range(length-1): \n",
    "        min_index = i \n",
    "        for j in range(i+1, len(my_list) ): # range of (1 to 5) = 1,2,3,4  \n",
    "            if my_list[j]< my_list[min_index]:\n",
    "                min_index = j \n",
    "            # else: \n",
    "            #     min_index = min_index\n",
    "        if i!= min_index:\n",
    "            my_list[i], my_list[min_index] = my_list[min_index], my_list[i] \n",
    "    return my_list\n",
    "\n",
    "my_list = [64, 25, 12, 22, 11]         \n",
    "selection_sort(my_list)"
   ]
  },
  {
   "cell_type": "markdown",
   "id": "399eb81e",
   "metadata": {},
   "source": [
    "# Insertion Sort \n",
    "\n",
    "### **Insertion Sort**: Logic Behind the Name\n",
    "\n",
    "The name **Insertion Sort** comes from the way the algorithm **inserts** elements into their correct position in the sorted portion of the list, one element at a time.\n",
    "\n",
    "#### **Why \"Insertion\"?**\n",
    "\n",
    "- **Insertion** refers to the process of **inserting** an element from the unsorted portion into the correct position in the sorted portion.\n",
    "- The algorithm works by taking one element at a time from the unsorted part of the list and **inserting it into its correct position** in the sorted part of the list.\n",
    "\n",
    "#### How the Name Works:\n",
    "1. **In the first step**: The algorithm assumes the first element is already sorted (since a single element is trivially sorted).\n",
    "   \n",
    "2. **In each subsequent step**: The algorithm takes the next element from the unsorted part of the list and **inserts it** into the correct position in the sorted part by shifting the larger elements to the right.\n",
    "\n",
    "3. This process of insertion continues until all the elements are sorted.\n",
    "\n",
    "### **Example (for List [5, 2, 9, 1, 5, 6]):**\n",
    "\n",
    "- **Step 1**: The first element `5` is assumed to be in the sorted part.\n",
    "  \n",
    "- **Step 2**: The next element `2` is taken and **inserted** into the sorted part by shifting `5` to the right. The list becomes: `[2, 5, 9, 1, 5, 6]`.\n",
    "  \n",
    "- **Step 3**: The next element `9` is already in the correct position, so no changes are made. The list remains: `[2, 5, 9, 1, 5, 6]`.\n",
    "  \n",
    "- **Step 4**: The next element `1` is inserted into its correct position by shifting `9`, `5`, and `2` to the right. The list becomes: `[1, 2, 5, 9, 5, 6]`.\n",
    "\n",
    "- **Step 5**: The next element `5` is inserted into its correct position, shifting `9` to the right. The list becomes: `[1, 2, 5, 5, 9, 6]`.\n",
    "\n",
    "- **Step 6**: The final element `6` is inserted into its correct position by shifting `9` to the right. The list becomes: `[1, 2, 5, 5, 6, 9]`.\n",
    "\n",
    "### **Key Point:**\n",
    "- The name **Insertion Sort** is derived from the fact that elements are **inserted** into their correct position in the sorted part of the list during each pass.\n",
    "\n",
    "### **Summary:**\n",
    "\n",
    "- **Insertion Sort** is named after the **insertion** of each element from the unsorted portion into its correct position in the sorted part.\n",
    "- The process continues with one element being inserted at a time until the entire list is sorted.\n"
   ]
  },
  {
   "cell_type": "code",
   "execution_count": null,
   "id": "ec00d7c2",
   "metadata": {},
   "outputs": [
    {
     "name": "stdout",
     "output_type": "stream",
     "text": [
      "i : 0  | j : 1 | list : [2, 5, 9, 1, 5, 6]\n",
      "--------------------\n",
      "i : 1  | j : 2 | list : [2, 5, 9, 1, 5, 6]\n",
      "i : 1  | j : 1 | list : [2, 5, 9, 1, 5, 6]\n",
      "--------------------\n",
      "i : 2  | j : 3 | list : [2, 5, 1, 9, 5, 6]\n",
      "i : 2  | j : 2 | list : [2, 1, 5, 9, 5, 6]\n",
      "i : 2  | j : 1 | list : [1, 2, 5, 9, 5, 6]\n",
      "--------------------\n",
      "i : 3  | j : 4 | list : [1, 2, 5, 5, 9, 6]\n",
      "i : 3  | j : 3 | list : [1, 2, 5, 5, 9, 6]\n",
      "i : 3  | j : 2 | list : [1, 2, 5, 5, 9, 6]\n",
      "i : 3  | j : 1 | list : [1, 2, 5, 5, 9, 6]\n",
      "--------------------\n",
      "i : 4  | j : 5 | list : [1, 2, 5, 5, 6, 9]\n",
      "i : 4  | j : 4 | list : [1, 2, 5, 5, 6, 9]\n",
      "i : 4  | j : 3 | list : [1, 2, 5, 5, 6, 9]\n",
      "i : 4  | j : 2 | list : [1, 2, 5, 5, 6, 9]\n",
      "i : 4  | j : 1 | list : [1, 2, 5, 5, 6, 9]\n",
      "--------------------\n"
     ]
    }
   ],
   "source": [
    "def insertion_sort(my_list): \n",
    "    length = len(my_list)\n",
    "    for i in range(0, length-1, 1): # (i = 0, 1, 2, 3, 4, 5)\n",
    "        for j in range(i+1, 0 , -1):   \n",
    "            min_index = i\n",
    "            if my_list[j]<my_list[j-1]: # Since there is j-1; so we not need to run upto 0 \n",
    "                temp = my_list[j]\n",
    "                my_list[j] = my_list[j-1]\n",
    "                my_list[j-1] = temp \n",
    "            print(\"i :\",i,\" | j :\",j,\"| list :\",my_list)\n",
    "        print(f'--------------------')\n",
    "    # return my_list\n",
    "\n",
    "my_list = [5, 2, 9, 1, 5, 6]\n",
    "insertion_sort(my_list)\n",
    "\n",
    "\n",
    "\n"
   ]
  },
  {
   "cell_type": "markdown",
   "id": "6131517a",
   "metadata": {},
   "source": [
    "### 📋 Insertion Sort – Detailed Table with i and j, Showing Element Comparisons\n",
    "\n",
    "| Pass | `i` | `j` | Action Taken                                  | List State              |\n",
    "|------|-----|-----|-----------------------------------------------|-------------------------|\n",
    "| 1    | 0   | 1   | (j=1)<(j=0) i.e. 2 < 5 → swap                 | [2, 5, 9, 1, 5, 6]      |\n",
    "|------|-----|-----|-----------------------------------------------|-------------------------|\n",
    "| 2    | 1   | 2   | (j=2)<(j=1) i.e. 9 < 5 → no swap              | [2, 5, 9, 1, 5, 6]      |\n",
    "|      |     | 1   | (j=1)<(j=0) i.e. 5 < 2 → no swap              | [2, 5, 9, 1, 5, 6]      |\n",
    "|------|-----|-----|-----------------------------------------------|-------------------------|\n",
    "| 3    | 2   | 3   | (j=3)<(j=2) i.e. 1 < 9 → swap                 | [2, 5, 1, 9, 5, 6]      |\n",
    "|      |     | 2   | (j=2)<(j=1) i.e. 1 < 5 → swap                 | [2, 1, 5, 9, 5, 6]      |\n",
    "|      |     | 1   | (j=1)<(j=0) i.e. 1 < 2 → swap                 | [1, 2, 5, 9, 5, 6]      |\n",
    "|------|-----|-----|-----------------------------------------------|-------------------------|\n",
    "| 4    | 3   | 4   | (j=4)<(j=3) i.e. 5 < 9 → swap                 | [1, 2, 5, 5, 9, 6]      |\n",
    "|      |     | 3   | (j=3)<(j=2) i.e. 5 < 5 → no swap              | [1, 2, 5, 5, 9, 6]      |\n",
    "|      |     | 2   | (j=2)<(j=1) i.e. 5 < 2 → no swap              | [1, 2, 5, 5, 9, 6]      |\n",
    "|      |     | 1   | (j=1)<(j=0) i.e. 2 < 1 → no swap              | [1, 2, 5, 5, 9, 6]      |\n",
    "|------|-----|-----|-----------------------------------------------|-------------------------|\n",
    "| 5    | 4   | 5   | (j=5)<(j=4) i.e. 6 < 9 → swap                 | [1, 2, 5, 5, 6, 9]      |\n",
    "|      |     | 4   | (j=4)<(j=3) i.e. 6 < 5 → no swap              | [1, 2, 5, 5, 6, 9]      |\n",
    "|      |     | 3   | (j=3)<(j=2) i.e. 5 < 5 → no swap              | [1, 2, 5, 5, 6, 9]      |\n",
    "|      |     | 2   | (j=2)<(j=1) i.e. 5 < 2 → no swap              | [1, 2, 5, 5, 6, 9]      |\n",
    "|      |     | 1   | (j=1)<(j=0) i.e. 2 < 1 → no swap              | [1, 2, 5, 5, 6, 9]      |\n"
   ]
  },
  {
   "cell_type": "markdown",
   "id": "d74c4e2c",
   "metadata": {},
   "source": [
    "### ✅ Alternative Version:"
   ]
  },
  {
   "cell_type": "code",
   "execution_count": 30,
   "id": "b903f302",
   "metadata": {},
   "outputs": [
    {
     "name": "stdout",
     "output_type": "stream",
     "text": [
      "[2, 5, 9, 1, 5, 6]\n",
      "-------\n",
      "-------\n",
      "[2, 5, 1, 9, 5, 6]\n",
      "[2, 1, 5, 9, 5, 6]\n",
      "[1, 2, 5, 9, 5, 6]\n",
      "-------\n",
      "[1, 2, 5, 5, 9, 6]\n",
      "-------\n",
      "[1, 2, 5, 5, 6, 9]\n",
      "-------\n"
     ]
    },
    {
     "data": {
      "text/plain": [
       "[1, 2, 5, 5, 6, 9]"
      ]
     },
     "execution_count": 30,
     "metadata": {},
     "output_type": "execute_result"
    }
   ],
   "source": [
    "# ✅ Alternative Version: (but optimal one)\n",
    "def insertion_sort(my_list):\n",
    "    for i in range(1, len(my_list)):\n",
    "        temp = my_list[i]\n",
    "        j = i - 1\n",
    "        while temp < my_list[j] and j > -1:\n",
    "            my_list[j + 1] = my_list[j]\n",
    "            my_list[j] = temp\n",
    "            j -= 1\n",
    "            print(my_list)\n",
    "        print(f'-------')\n",
    "    return my_list\n",
    "\n",
    "list1 = [5,2,9,1,5,6]\n",
    "insertion_sort(list1)"
   ]
  },
  {
   "cell_type": "markdown",
   "id": "6354079f",
   "metadata": {},
   "source": [
    "## 🔍 Detailed Comparison\n",
    "\n",
    "| Feature               | Your Original Version                          | Alternative Version                             |\n",
    "|-----------------------|------------------------------------------------|--------------------------------------------------|\n",
    "| **Outer Loop (`i`)**  | `for i in range(0, length-1)`                  | `for i in range(1, len(my_list))`               |\n",
    "| **Inner Loop (`j`)**  | `for j in range(i+1, 0, -1)`                   | `while temp < my_list[j] and j > -1`            |\n",
    "| **Swap or Shift**     | Swaps two elements on each comparison          | Shifts elements and inserts `temp` once         |\n",
    "| **Efficiency**        | Slower due to multiple swaps                   | More efficient due to fewer assignments         |\n",
    "| **Style**             | Simple nested loops                            | Cleaner logic with clear shifting               |\n",
    "| **Write Operations**  | Multiple writes per insertion                  | Only necessary shifts and a single placement    |\n",
    "| **Return Value**      | Missing `return` (unless added)                | Properly returns the sorted list                |\n",
    "\n",
    "---\n",
    "\n",
    "## 🧠 Key Differences\n",
    "\n",
    "1. ✅ **The second version is more optimal**:\n",
    "   - It minimizes the number of assignments by **shifting** elements instead of swapping on every comparison.\n",
    "   - This improves performance in practice, especially for larger lists.\n",
    "\n",
    "2. 🧼 **Cleaner logic**:\n",
    "   - The `while` loop continues as long as `temp` is smaller and we haven’t hit the start of the list.\n",
    "   - Less indexing and fewer operations than nested loops.\n",
    "\n",
    "3. 🛠️ **Functional return**:\n",
    "   - The second version correctly returns the sorted list, whereas the first one does not unless explicitly added.\n"
   ]
  },
  {
   "cell_type": "code",
   "execution_count": 25,
   "id": "e5a44d52",
   "metadata": {},
   "outputs": [
    {
     "data": {
      "text/plain": [
       "[1, 2, 5, 5, 6, 9]"
      ]
     },
     "execution_count": 25,
     "metadata": {},
     "output_type": "execute_result"
    }
   ],
   "source": [
    "# ✅ Alternative Version: (but optimal one)\n",
    "def insertion_sort(my_list):\n",
    "    for i in range(1, len(my_list)):\n",
    "        temp = my_list[i]\n",
    "        j = i - 1\n",
    "        while temp < my_list[j] and j > -1:\n",
    "            my_list[j + 1] = my_list[j]\n",
    "            my_list[j] = temp\n",
    "            j -= 1\n",
    "    return my_list\n",
    "\n",
    "insertion_sort(my_list)\n"
   ]
  },
  {
   "cell_type": "markdown",
   "id": "a363bf9d",
   "metadata": {},
   "source": [
    "## 📝 Impact of Removing `j > -1` Condition in the `while` Loop\n",
    "\n",
    "\n",
    "\n",
    "| **Step**                  | **i** | **j** | **Condition (`temp < my_list[j]`)**           | **Action with `j > -1`**                                       | **Action without `j > -1`**                                  | **List After Action**       |\n",
    "|---------------------------|-------|-------|-----------------------------------------------|---------------------------------------------------------------|---------------------------------------------------------------|-----------------------------|\n",
    "| **Initial List**           |       |       |                                               | Initial list: `[2, 1, 3, 4, 5, 6]`                             | Initial list: `[2, 1, 3, 4, 5, 6]`                            | `[2, 1, 3, 4, 5, 6]`       |\n",
    "| **1st Iteration (i=1)**    | 1     | 0     | `1 < 2` → **True**                            | `2` is shifted right, `temp` becomes `1`.                       | `2` is shifted right, `temp` becomes `1`.                       | `[1, 2, 3, 4, 5, 6]`       |\n",
    "| **After Shift (i=1, j=0)** | 1     | 0     | `1 < 2` → **True**                            | No further shifting, since `j` becomes `-1`, stops the loop.   | **Error occurs**: Tries to access `my_list[-1]`, causing an `IndexError`. | Crashes with error.          |\n",
    "| **Final List (with `j > -1`)** |       |       |                                               | Safely stops shifting, final list: `[1, 2, 3, 4, 5, 6]`       | **Not applicable** due to error.                                | **Final sorted list unavailable** |\n",
    "\n",
    "---\n",
    "\n",
    "=====\n",
    "\n",
    "| **Step**                               | **With `j > -1` Condition**                                 | **Without `j > -1` Condition**                                   |\n",
    "|----------------------------------------|-------------------------------------------------------------|-------------------------------------------------------------------|\n",
    "| **Initial List**                       | `[2, 1, 3, 4, 5, 6]`                                       | `[2, 1, 3, 4, 5, 6]`                                             |\n",
    "| **First Iteration (`i = 1`, temp = 1)** | Compare `temp (1)` with `my_list[0] (2)` → `1 < 2` → **True**, shift `2` | Compare `temp (1)` with `my_list[0] (2)` → `1 < 2` → **True**, shift `2`  |\n",
    "| **List After First Shift**             | `[1, 2, 3, 4, 5, 6]`                                       | `[1, 2, 3, 4, 5, 6]`                                             |\n",
    "| **Now `j = 0`**                        | Compare `temp (1)` with `my_list[-1]` → **Valid**: Ends loop (no index error). | Compare `temp (1)` with `my_list[-1]` → **Invalid**: Causes `IndexError`. |\n",
    "| **Result**                             | The `while` loop stops safely when `j > -1`, avoiding out-of-bounds error. | Without `j > -1`, `j = -1` leads to an **IndexError** when accessing `my_list[-1]`. |\n",
    "\n",
    "---"
   ]
  }
 ],
 "metadata": {
  "kernelspec": {
   "display_name": "Python 3",
   "language": "python",
   "name": "python3"
  },
  "language_info": {
   "codemirror_mode": {
    "name": "ipython",
    "version": 3
   },
   "file_extension": ".py",
   "mimetype": "text/x-python",
   "name": "python",
   "nbconvert_exporter": "python",
   "pygments_lexer": "ipython3",
   "version": "3.10.12"
  }
 },
 "nbformat": 4,
 "nbformat_minor": 5
}
