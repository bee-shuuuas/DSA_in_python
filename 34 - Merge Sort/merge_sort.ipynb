{
 "cells": [
  {
   "cell_type": "markdown",
   "id": "965b5865",
   "metadata": {},
   "source": [
    "# Merge Sort"
   ]
  },
  {
   "cell_type": "markdown",
   "id": "108246d3",
   "metadata": {},
   "source": [
    "### Merge Sort: Logic Behind the Name\n",
    "\n",
    "**Merge Sort** gets its name from the two main steps involved in the algorithm:\n",
    "\n",
    "1. **Divide**: The list is recursively split into two halves.\n",
    "2. **Merge**: The two halves are merged back together in a sorted order.\n",
    "\n",
    "### Key Ideas Behind Merge Sort:\n",
    "\n",
    "1. **Divide and Conquer**: Merge Sort is a **divide-and-conquer** algorithm. It works by recursively splitting the list into two halves until each sublist contains a single element (or is empty). At this point, each sublist is trivially sorted (since a single element is naturally sorted).\n",
    "\n",
    "2. **Merging**: After dividing the list into sublists, the algorithm **merges** the sublists back together in sorted order. The merging step ensures that at each level of recursion, smaller sublists are combined into larger sorted sublists.\n",
    "\n",
    "### Step-by-Step Process:\n",
    "\n",
    "1. **Divide**:\n",
    "   - If the list has more than one element, it is divided into two halves.\n",
    "   - This division continues recursively until each sublist has one or no elements (base case).\n",
    "\n",
    "2. **Merge**:\n",
    "   - Once the list has been divided into individual elements, the algorithm starts **merging** them back together. During the merging step, two sorted sublists are combined by comparing the elements and arranging them in order.\n",
    "   - This merging process is repeated until all sublists are merged into a single sorted list.\n",
    "\n",
    "### Example:\n",
    "\n",
    "Let’s sort the list `[38, 27, 43, 3, 9, 82, 10]` using **Merge Sort**:\n",
    "\n",
    "#### Step 1: Divide the List\n",
    "\n",
    "*   **First Split**: `[38, 27, 43, 3, 9, 82, 10]` → `[38, 27, 43]` and `[3, 9, 82, 10]`\n",
    "    \n",
    "*   **Second Split**:\n",
    "    \n",
    "    *   `[38, 27, 43]` → `[38]` and `[27, 43]`\n",
    "        \n",
    "    *   `[3, 9, 82, 10]` → `[3, 9]` and `[82, 10]`\n",
    "        \n",
    "*   **Third Split**:\n",
    "    \n",
    "    *   `[27, 43]` → `[27]` and `[43]`\n",
    "        \n",
    "    *   `[3, 9]` → `[3]` and `[9]`\n",
    "        \n",
    "    *   `[82, 10]` → `[82]` and `[10]`\n",
    "        \n",
    "\n",
    "#### Step 2: Merge the Sublists\n",
    "\n",
    "Now, we begin to merge the individual elements back into sorted sublists:\n",
    "\n",
    "*   Merge `[27]` and `[43]` → `[27, 43]`\n",
    "    \n",
    "*   Merge `[3]` and `[9]` → `[3, 9]`\n",
    "    \n",
    "*   Merge `[82]` and `[10]` → `[10, 82]`\n",
    "    \n",
    "\n",
    "Next, merge larger sublists:\n",
    "\n",
    "*   Merge `[38]` and `[27, 43]` → `[27, 38, 43]`\n",
    "    \n",
    "*   Merge `[3, 9]` and `[10, 82]` → `[3, 9, 10, 82]`\n",
    "    \n",
    "\n",
    "Finally, merge the two large sorted sublists:\n",
    "\n",
    "*   Merge `[27, 38, 43]` and `[3, 9, 10, 82]` → `[3, 9, 10, 27, 38, 43, 82]`\n",
    "    \n",
    "\n",
    "#### Final Sorted List:\n",
    "\n",
    "`[3, 9, 10, 27, 38, 43, 82]`\n",
    "\n",
    "### Logic Behind the Name \"Merge Sort\":\n",
    "\n",
    "*   **Merge**: The core idea is the **merging** of sorted sublists back into one larger sorted list.\n",
    "    \n",
    "*   **Sort**: The list is sorted by recursively breaking it down (dividing) and then merging it in the correct order.\n",
    "    \n",
    "\n",
    "### Key Features of Merge Sort:\n",
    "\n",
    "*   **Efficiency**: Merge Sort has a time complexity of **O(n log n)**, which is better than algorithms like Bubble Sort and Selection Sort, which have a time complexity of O(n²).\n",
    "    \n",
    "*   **Stable Sort**: Merge Sort is a **stable sort**, meaning that if two elements have the same value, they will retain their original relative order after sorting.\n",
    "    \n",
    "*   **External Sorting**: Merge Sort is particularly useful for sorting large data sets that do not fit entirely into memory (external sorting), since it works well with data stored in external storage like hard drives.\n"
   ]
  },
  {
   "cell_type": "markdown",
   "id": "9d029334",
   "metadata": {},
   "source": [
    "## Helper Function for merge sort"
   ]
  },
  {
   "cell_type": "code",
   "execution_count": 4,
   "id": "38ac2752",
   "metadata": {},
   "outputs": [
    {
     "data": {
      "text/plain": [
       "[1, 2, 3, 4, 5, 6, 7, 8]"
      ]
     },
     "execution_count": 4,
     "metadata": {},
     "output_type": "execute_result"
    }
   ],
   "source": [
    "# takes two sorted list;\n",
    " \n",
    "# Then merge it; the placed in order \n",
    "\n",
    "def merge(list1, list2): \n",
    "    combined = []\n",
    "    # you can't use for loops because you  dont konw how many are there in each list \n",
    "\n",
    "    i = 0 \n",
    "    j = 0 \n",
    "\n",
    "    # to point into first element of both list\n",
    "\n",
    "    # we will run list as long as there is items in the list; \n",
    "    \n",
    "    # either list is empty, we will break out of loop  \n",
    "    while i<len(list1) and j<len(list2):\n",
    "        if list1[i]<list2[j]: \n",
    "            combined.append(list1[i])\n",
    "            i +=1\n",
    "        else: \n",
    "            combined.append(list2[j])\n",
    "            j+=1\n",
    "\n",
    "    # if item still remaining in the list1 \n",
    "    while i<len(list1): \n",
    "        combined.append(list1[i])\n",
    "        i +=1\n",
    "\n",
    "\n",
    "    while j<len(list2): \n",
    "        combined.append(list2[j])\n",
    "        j +=1\n",
    "\n",
    "    return combined\n",
    "\n",
    "# %%%%%%%%%%%%\n",
    "\n",
    "\n",
    "\n",
    "list1 = [1,2,7,8]\n",
    "list2 = [3,4,5,6] \n",
    "\n",
    "merge(list1, list2)"
   ]
  },
  {
   "cell_type": "markdown",
   "id": "abb95811",
   "metadata": {},
   "source": [
    "### Merge Process Breakdown\n",
    "\n",
    "The lists list1 and list2 aren't actually getting reduced by the merge function. They're only being traversed, and elements are compared by their indices, not physically removed from the lists. So, to better reflect what’s happening:\n",
    "\n",
    "\n",
    "\n",
    "\n",
    "| **Step**                       | **Action**                                                                                   | **Explanation**                                                                                                     | **Combined List**                    | **List1**        | **List2**         |\n",
    "|---------------------------------|----------------------------------------------------------------------------------------------|---------------------------------------------------------------------------------------------------------------------|--------------------------------------|------------------|-------------------|\n",
    "| **Step 1: Main Loop**           | Compare `list1[0]` (1) with `list2[0]` (3)                                                    | Since 1 < 3, append 1 to `combined`.                                                                               | `[1]`                                | `[2, 7, 8]`      | `[3, 4, 5, 6]`    |\n",
    "|                                 | Compare `list1[1]` (2) with `list2[0]` (3)                                                    | Since 2 < 3, append 2 to `combined`.                                                                               | `[1, 2]`                             | `[7, 8]`         | `[3, 4, 5, 6]`    |\n",
    "|                                 | Compare `list1[2]` (7) with `list2[0]` (3)                                                    | Since 3 < 7, append 3 to `combined`.                                                                               | `[1, 2, 3]`                          | `[7, 8]`         | `[4, 5, 6]`       |\n",
    "|                                 | Compare `list1[2]` (7) with `list2[1]` (4)                                                    | Since 4 < 7, append 4 to `combined`.                                                                               | `[1, 2, 3, 4]`                       | `[7, 8]`         | `[5, 6]`          |\n",
    "|                                 | Compare `list1[2]` (7) with `list2[2]` (5)                                                    | Since 5 < 7, append 5 to `combined`.                                                                               | `[1, 2, 3, 4, 5]`                    | `[7, 8]`         | `[6]`             |\n",
    "|                                 | Compare `list1[2]` (7) with `list2[3]` (6)                                                    | Since 6 < 7, append 6 to `combined`.                                                                               | `[1, 2, 3, 4, 5, 6]`                 | `[7, 8]`         | `[]`              |\n",
    "| **Step 2: Handling Remaining Elements** | `list1` still has elements 7 and 8, so they are appended to `combined`.                        | The remaining elements of `list1` (7 and 8) are already sorted, so they are appended directly.                     | `[1, 2, 3, 4, 5, 6, 7, 8]`           | `[]`             | `[]`              |\n",
    "| **Final Merged List**           | `[1, 2, 3, 4, 5, 6, 7, 8]`                                                                   | The final merged and sorted list after all comparisons and append operations are complete.                          | `[1, 2, 3, 4, 5, 6, 7, 8]`           | `[]`             | `[]`              |\n"
   ]
  },
  {
   "cell_type": "markdown",
   "id": "dac91895",
   "metadata": {},
   "source": [
    "\n",
    "\n",
    "### Merge Process Breakdown\n",
    "\n",
    "| **Step**                       | **Action**                                                                                   | **Combined List**                    | **List1**                         | **List2**                         | **Pointer in List1 (i)**                 | **Pointer in List2 (j)**                 |\n",
    "|---------------------------------|----------------------------------------------------------------------------------------------|--------------------------------------|-----------------------------------|-----------------------------------|-------------------------------------------|-------------------------------------------|\n",
    "| **Initial State**               | -                                                                                           | `[1, 2, 7, 8]`                       | <span style=\"color: red;\">1</span>, 2, 7, 8    | <span style=\"color: blue;\">3</span>, 4, 5, 6` |                                        |                                        |\n",
    "| **Step 1: Compare 1 & 3**       | Compare `list1[0]` (1) with `list2[0]` (3). Since 1 < 3, append 1 to `combined`.              | `[1]`                                |<span style=\"color: red;\">1</span>,2, 7, 8`|<span style=\"color: blue;\">3</span>, 4, 5, 6  | `0`                                       | `0`                                       |\n",
    "| **Step 2: Compare 2 & 3**       | Compare `list1[1]` (2) with `list2[0]` (3). Since 2 < 3, append 2 to `combined`.              | `[1, 2]`                             | 1,<span style=\"color: red;\">2</span>, 7, 8`   | <span style=\"color: blue;\">3</span>,4, 5, 6`  | `1`                                       | `0`                                       |\n",
    "| **Step 3: Compare 7 & 3**       | Compare `list1[2]` (7) with `list2[0]` (3). Since 3 < 7, append 3 to `combined`.              | `[1, 2, 3]`                          | 1,2,<span style=\"color: red;\">7</span>, 8|  <span style=\"color: blue;\">3</span> 4, 5, 6` | `2` | `0`|\n",
    "| **Step 4: Compare 7 & 4**       | Compare `list1[2]` (7) with `list2[1]` (4). Since 4 < 7, append 4 to `combined`.              | `[1, 2, 3, 4]`                       | 1,2,<span style=\"color: red;\">7</span>, 8| 3,<span style=\"color: blue;\">4</span>, 5, 6`   | `2`                                       | `1`                                       |\n",
    "| **Step 5: Compare 7 & 5**       | Compare `list1[2]` (7) with `list2[2]` (5). Since 5 < 7, append 5 to `combined`.              | `[1, 2, 3, 4, 5]`                    | 1,2,<span style=\"color: red;\">7</span>, 8 | 3,4,<span style=\"color: blue;\">5</span>,6 6`                              | `2`                                       | `2`                                       |\n",
    "| **Step 6: Compare 7 & 6**       | Compare `list1[2]` (7) with `list2[3]` (6). Since 6 < 7, append 6 to `combined`.              | `[1, 2, 3, 4, 5, 6]`                 | 1,2,<span style=\"color: red;\">7</span>, 8  | 3,4,5,<span style=\"color: blue;\">6</span>                          | `2`                                       | `3`                                       |\n",
    "| **Step 7: Handle Remaining in List1** | `list2` is empty, so append remaining elements from `list1`.                                | `[1, 2, 3, 4, 5, 6, 7, 8]`           | 1,2,<span style=\"color: red;\">7</span>, 8`    | `[ Empty ; Means all are appended ]`                              | `2`                                       | `3`                                       |\n",
    "|-|-|-|-|-|-|\n",
    "Meaning now the pointer at list one is at 7: <span style=\"color: red;\">7</span>, 8 |  ---------- 7 and 8 are needed to append into the combined list | | While loop runs here | While loop fails here | \n",
    "| **Final Merged List**           | -                                                                                           | `[1, 2, 3, 4, 5, 6, 7, 8]`           | `[]`                              | `[]`                              | `4`                                       | `4`                                       |\n"
   ]
  },
  {
   "cell_type": "markdown",
   "id": "c6b6c0f4",
   "metadata": {},
   "source": [
    "### Explanation of the Comment: \n",
    "\n",
    "---\n",
    "\n",
    "#### Comment: \n",
    "`# you can't use for loops because you don't know how many are there in each list`\n",
    "\n",
    "- **Why it's necessary**: \n",
    "  This comment highlights the reason why we can't use a `for` loop to iterate over the lists. In the `merge` function, we don't know in advance how many elements each list contains. A `for` loop usually iterates over a fixed range (e.g., `for i in range(len(list))`), but in this case, we need to dynamically handle lists of different lengths. Since we don't know the number of iterations required, a `while` loop is more appropriate because it continues until certain conditions (list length) are met. \n",
    "\n",
    "  A `while` loop gives us the flexibility to process the lists until either list is exhausted.\n",
    "\n",
    "---\n",
    "\n",
    "#### Comment: \n",
    "`# to point into first element of both list`\n",
    "\n",
    "- **Why it's necessary**:\n",
    "  The variables `i = 0` and `j = 0` are used to **point to the first elements** of `list1` and `list2`, respectively. In merge sort, we start comparing the elements from the beginning of both lists, so initializing `i` and `j` to 0 allows us to keep track of our position as we iterate through each list. These variables act as **indexes** that track the current element of each list being processed.\n",
    "\n",
    "---\n",
    "\n",
    "#### Comment: \n",
    "`# we will run the list as long as there are items in the list`\n",
    "\n",
    "- **Why it's necessary**: \n",
    "  This comment refers to the **main while loop**:\n",
    "\n",
    "  ```python\n",
    "  while i < len(list1) and j < len(list2):\n"
   ]
  },
  {
   "cell_type": "markdown",
   "id": "54f97d0c",
   "metadata": {},
   "source": [
    "# Other are also there \n",
    "\n",
    "like we need to split the list \n",
    "\n",
    "dividing the list "
   ]
  },
  {
   "cell_type": "markdown",
   "id": "59a09da0",
   "metadata": {},
   "source": [
    "#### using recursion to make a split into half ; "
   ]
  },
  {
   "cell_type": "code",
   "execution_count": null,
   "id": "d4edb5a9",
   "metadata": {},
   "outputs": [],
   "source": [
    "def merge_sort(my_list): \n",
    "    mid_index = int(len(my_list) /2 ) \n",
    "\n",
    "    left = my_list[:mid_index]\n",
    "    right = my_list[mid_index:]\n",
    "\n",
    "    return merge(left,right) # problem merge only works, when both list is sorted ; \n"
   ]
  },
  {
   "cell_type": "markdown",
   "id": "b17ff604",
   "metadata": {},
   "source": [
    "#### Now here comes the role of recursion ; "
   ]
  },
  {
   "cell_type": "code",
   "execution_count": null,
   "id": "1d8c53ef",
   "metadata": {},
   "outputs": [],
   "source": [
    "def merge_sort(my_list): \n",
    "    mid_index = int(len(my_list) /2 ) \n",
    "\n",
    "    left = merge_sort(my_list[:mid_index])\n",
    "    right = merge_sort(my_list[mid_index:])\n",
    "\n",
    "    return merge(left,right) # problem merge only works, when both list is sorted ; \n"
   ]
  },
  {
   "cell_type": "markdown",
   "id": "555ec7d0",
   "metadata": {},
   "source": [
    "but there is a base case"
   ]
  },
  {
   "cell_type": "code",
   "execution_count": 8,
   "id": "ba8e0ef1",
   "metadata": {},
   "outputs": [
    {
     "name": "stdout",
     "output_type": "stream",
     "text": [
      "[3, 1, 2, 4]\n",
      "[1, 2, 3, 4]\n"
     ]
    }
   ],
   "source": [
    "def merge_sort(my_list): \n",
    "    if len(my_list)==1: \n",
    "        return my_list\n",
    "    mid_index = int(len(my_list) /2 ) \n",
    "\n",
    "    left = merge_sort(my_list[:mid_index])\n",
    "    right = merge_sort(my_list[mid_index:])\n",
    "\n",
    "    def merge(list1, list2):\n",
    "        combined = []\n",
    "        i, j = 0, 0\n",
    "\n",
    "        # Merge the lists as long as both have elements\n",
    "        while i < len(list1) and j < len(list2):\n",
    "            if list1[i] < list2[j]:\n",
    "                combined.append(list1[i])\n",
    "                i += 1\n",
    "            else:\n",
    "                combined.append(list2[j])\n",
    "                j += 1\n",
    "\n",
    "        # Append any remaining elements from list1\n",
    "        while i < len(list1):\n",
    "            combined.append(list1[i])\n",
    "            i += 1\n",
    "\n",
    "        # Append any remaining elements from list2\n",
    "        while j < len(list2):\n",
    "            combined.append(list2[j])\n",
    "            j += 1\n",
    "\n",
    "        return combined\n",
    "\n",
    "\n",
    "    return merge(left,right) # problem merge only works, when both list is sorted ; \n",
    "\n",
    "original_list = [3,1,2,4]\n",
    "sorted_list = merge_sort(original_list)\n",
    "\n",
    "print(original_list) # original list remains the same \n",
    "print(sorted_list)  # sorted list, changes\n"
   ]
  },
  {
   "cell_type": "code",
   "execution_count": null,
   "id": "02fdae49",
   "metadata": {},
   "outputs": [],
   "source": []
  }
 ],
 "metadata": {
  "kernelspec": {
   "display_name": "Python 3",
   "language": "python",
   "name": "python3"
  },
  "language_info": {
   "codemirror_mode": {
    "name": "ipython",
    "version": 3
   },
   "file_extension": ".py",
   "mimetype": "text/x-python",
   "name": "python",
   "nbconvert_exporter": "python",
   "pygments_lexer": "ipython3",
   "version": "3.10.12"
  }
 },
 "nbformat": 4,
 "nbformat_minor": 5
}
